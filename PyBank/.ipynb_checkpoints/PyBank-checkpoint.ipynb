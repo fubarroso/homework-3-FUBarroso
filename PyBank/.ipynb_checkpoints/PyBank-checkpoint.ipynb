{
 "cells": [
  {
   "cell_type": "code",
   "execution_count": 37,
   "metadata": {},
   "outputs": [
    {
     "name": "stdout",
     "output_type": "stream",
     "text": [
      "---------------------\n",
      "Financial Analysis\n",
      "---------------------\n",
      "Total Months: 86\n",
      "Total: $38382578\n",
      "Average Change: $-2315.12\n",
      "Greatest Increase in Profits: Feb-2012 ($1926159)\n",
      "Greatest Decrease in Profits: Sep-2013 ($-2196167)\n"
     ]
    }
   ],
   "source": [
    "import os\n",
    "import csv\n",
    "\n",
    "\n",
    "csvpath = os.path.join('..','Data','budget_data.csv')\n",
    "\n",
    "with open(csvpath, newline='') as csvfile:\n",
    "    \n",
    "    csvreader = csv.reader(csvfile, delimiter=\",\")\n",
    "    csv_header = next(csvreader)\n",
    "    \n",
    "    #print(csv_header)\n",
    "    #for row in csvreader:\n",
    "        #print(row)\n",
    "    \n",
    "    numberOfMonths=0    \n",
    "    totalAmountProfitLoss=0\n",
    "    prevProfit=0\n",
    "    revenueChanges = []\n",
    "    dates= []\n",
    "    increaseMax=0\n",
    "    decreaseMax=0\n",
    "    \n",
    "    print(\"---------------------\")\n",
    "    print(\"Financial Analysis\")\n",
    "    print(\"---------------------\")\n",
    "    for row in csvreader:\n",
    "        numberOfMonths=numberOfMonths+1\n",
    "        totalAmountProfitLoss=totalAmountProfitLoss+int(row[1])\n",
    "        \n",
    "        revenueChanges.append(int(row[1])-prevProfit)\n",
    "        prevProfit=int(row[1])\n",
    "        dates.append(row[0])\n",
    "        \n",
    "\n",
    "    print(f\"Total Months: {numberOfMonths}\")\n",
    "    print(f\"Total: ${totalAmountProfitLoss}\")\n",
    "    \n",
    "    revenueChanges.pop(0)\n",
    "    totalRevenueChanges=sum(revenueChanges)\n",
    "    averageMonthlyChange=totalRevenueChanges/(numberOfMonths-1)\n",
    "    averageMonthlyChangeTwoDecimal=round(averageMonthlyChange,2)\n",
    "    \n",
    "    print(f\"Average Change: ${averageMonthlyChangeTwoDecimal}\")\n",
    "    \n",
    "    for change in range(len(revenueChanges)):\n",
    "        if revenueChanges[change]>increaseMax:\n",
    "            increaseMax=revenueChanges[change]\n",
    "            maxIndex=change\n",
    "        if revenueChanges[change]<decreaseMax:\n",
    "            decreaseMax=revenueChanges[change]\n",
    "            minIndex=change\n",
    "    \n",
    "    print(f\"Greatest Increase in Profits: {dates[maxIndex+1]} (${increaseMax})\")\n",
    "    print(f\"Greatest Decrease in Profits: {dates[minIndex+1]} (${decreaseMax})\")\n",
    "    \n",
    "    \n",
    "    \n",
    "    "
   ]
  },
  {
   "cell_type": "code",
   "execution_count": null,
   "metadata": {},
   "outputs": [],
   "source": []
  },
  {
   "cell_type": "code",
   "execution_count": null,
   "metadata": {},
   "outputs": [],
   "source": []
  }
 ],
 "metadata": {
  "kernelspec": {
   "display_name": "Python 3",
   "language": "python",
   "name": "python3"
  },
  "language_info": {
   "codemirror_mode": {
    "name": "ipython",
    "version": 3
   },
   "file_extension": ".py",
   "mimetype": "text/x-python",
   "name": "python",
   "nbconvert_exporter": "python",
   "pygments_lexer": "ipython3",
   "version": "3.7.0"
  }
 },
 "nbformat": 4,
 "nbformat_minor": 2
}
